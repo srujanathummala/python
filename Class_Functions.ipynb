{
 "cells": [
  {
   "cell_type": "code",
   "execution_count": 1,
   "id": "f90953b8",
   "metadata": {},
   "outputs": [],
   "source": [
    "import pandas as pd\n"
   ]
  },
  {
   "cell_type": "code",
   "execution_count": null,
   "id": "ba459e1e",
   "metadata": {},
   "outputs": [],
   "source": [
    "def fn_replace_with_replacer(df,my_replace,my_replacer):\n",
    "    if my_replace in df['LoanReason'].unique().tolist():\n",
    "        df['LoanReason'].replace(my_replace, my_replacer, inplace=True)\n",
    "        print(my_replace,'replaced with',my_replacer )\n",
    "    else:\n",
    "        print(my_replace, 'Not found')    \n",
    "       \n",
    "    return df"
   ]
  },
  {
   "cell_type": "code",
   "execution_count": null,
   "id": "6bd8e28b",
   "metadata": {},
   "outputs": [],
   "source": [
    "def fn_categorical_col_value_counts(df):\n",
    "    categorical_colomns=df.select_dtypes(include='object').columns.tolist()\n",
    "    categorical_colomns\n",
    "    for x in categorical_colomns:\n",
    "        y= df[x].value_counts()\n",
    "        if(len(y)<10):\n",
    "            print(x,':\\n',y)\n",
    "        else:\n",
    "            print(x,': there are more than 10 unique numbers :')"
   ]
  },
  {
   "cell_type": "code",
   "execution_count": null,
   "id": "40f28397",
   "metadata": {},
   "outputs": [],
   "source": [
    "def categorical_colomn_spaces_remove(df):\n",
    "    \"\"\"\n",
    "    Remove the speces after/before the word\n",
    "    example: categorical_colomn_spaces_remove(df)\n",
    "    \"\"\"\n",
    "    categorical_colomns=df.select_dtypes(include='object').columns.tolist()\n",
    "    for columnname in categorical_colomns:\n",
    "            df[columnname]=df[columnname].str.rstrip(' ')\n",
    "            df[columnname]=df[columnname].str.strip(' ')\n",
    "            print(df[columnname].unique())"
   ]
  }
 ],
 "metadata": {
  "kernelspec": {
   "display_name": "Python 3",
   "language": "python",
   "name": "python3"
  },
  "language_info": {
   "codemirror_mode": {
    "name": "ipython",
    "version": 3
   },
   "file_extension": ".py",
   "mimetype": "text/x-python",
   "name": "python",
   "nbconvert_exporter": "python",
   "pygments_lexer": "ipython3",
   "version": "3.8.8"
  },
  "toc": {
   "base_numbering": 1,
   "nav_menu": {},
   "number_sections": true,
   "sideBar": true,
   "skip_h1_title": false,
   "title_cell": "Table of Contents",
   "title_sidebar": "Contents",
   "toc_cell": false,
   "toc_position": {},
   "toc_section_display": true,
   "toc_window_display": false
  }
 },
 "nbformat": 4,
 "nbformat_minor": 5
}
